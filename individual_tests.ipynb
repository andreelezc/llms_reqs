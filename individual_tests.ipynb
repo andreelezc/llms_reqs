{
 "cells": [
  {
   "cell_type": "code",
   "id": "initial_id",
   "metadata": {
    "collapsed": true,
    "ExecuteTime": {
     "end_time": "2024-09-30T19:26:40.575019Z",
     "start_time": "2024-09-30T19:26:40.165746Z"
    }
   },
   "source": [
    "from openai import OpenAI\n",
    "import os\n",
    "import json\n",
    "from IPython.display import Markdown, display"
   ],
   "outputs": [],
   "execution_count": 1
  },
  {
   "metadata": {
    "ExecuteTime": {
     "end_time": "2024-09-30T19:26:41.246938Z",
     "start_time": "2024-09-30T19:26:41.215317Z"
    }
   },
   "cell_type": "code",
   "source": [
    "# API Call setup\n",
    "\n",
    "# Load the API key from the environment variable\n",
    "api_key = os.getenv(\"OPENAI_API_KEY\")\n",
    "\n",
    "# Initialize the OpenAI client with the API key\n",
    "client = OpenAI(api_key=api_key)"
   ],
   "id": "1d0449e5c71407de",
   "outputs": [],
   "execution_count": 2
  },
  {
   "metadata": {
    "ExecuteTime": {
     "end_time": "2024-09-30T19:26:43.751126Z",
     "start_time": "2024-09-30T19:26:43.735503Z"
    }
   },
   "cell_type": "code",
   "source": [
    "# Example mockup URL to test things (001)\n",
    "url = \"https://github.com/andreelezc/llms_reqs/blob/master/screenshots/mockup_001.png?raw=true\""
   ],
   "id": "9df878f8f3d883e3",
   "outputs": [],
   "execution_count": 3
  },
  {
   "metadata": {
    "ExecuteTime": {
     "end_time": "2024-09-30T19:26:45.443042Z",
     "start_time": "2024-09-30T19:26:45.427352Z"
    }
   },
   "cell_type": "code",
   "source": [
    "# Utility Functions\n",
    "def display_response(response):\n",
    "    \"\"\"\n",
    "    Displays the content of the OpenAI API response in a Markdown format.\n",
    "    \"\"\"\n",
    "    display(Markdown(response.choices[0].message.content))\n",
    "    \n",
    "\n",
    "def display_json_response(response):\n",
    "    \"\"\"\n",
    "    Extracts and displays the JSON content from the OpenAI API response in a pretty-printed format.\n",
    "    \"\"\"\n",
    "    # Access the content of the response\n",
    "    content = response.choices[0].message.content\n",
    "    \n",
    "    # Remove the Markdown code block if present (e.g., ```json and ``` at the start and end)\n",
    "    cleaned_content = content.strip(\"```json\").strip(\"```\").strip()\n",
    "    \n",
    "    # Load the cleaned content as JSON\n",
    "    try:\n",
    "        scene_graph = json.loads(cleaned_content)\n",
    "        # Pretty-print the JSON\n",
    "        print(json.dumps(scene_graph, indent=4))\n",
    "    except json.JSONDecodeError:\n",
    "        print(\"Failed to parse the content as JSON\")\n",
    "    "
   ],
   "id": "1d8b73ce53fc2714",
   "outputs": [],
   "execution_count": 4
  },
  {
   "metadata": {
    "ExecuteTime": {
     "end_time": "2024-09-30T19:33:21.544878Z",
     "start_time": "2024-09-30T19:33:21.529499Z"
    }
   },
   "cell_type": "code",
   "source": [
    "trial_first_scene_graph = \"\"\"\n",
    "{\n",
    "    \"sceneGraph\": {\n",
    "        \"objects\": [\n",
    "            {\n",
    "                \"type\": \"Header\",\n",
    "                \"attributes\": {\n",
    "                    \"title\": \"Buscar em TodoAgro\",\n",
    "                    \"location\": \"top\"\n",
    "                }\n",
    "            },\n",
    "            {\n",
    "                \"type\": \"NavigationBar\",\n",
    "                \"attributes\": {\n",
    "                    \"items\": [\n",
    "                        \"Compras\",\n",
    "                        \"Reservas\",\n",
    "                        \"Or\\u00e7amentos\"\n",
    "                    ]\n",
    "                }\n",
    "            },\n",
    "            {\n",
    "                \"type\": \"FilterButton\",\n",
    "                \"attributes\": {\n",
    "                    \"label\": \"Mostrar filtros\"\n",
    "                }\n",
    "            },\n",
    "            {\n",
    "                \"type\": \"SortDropdown\",\n",
    "                \"attributes\": {\n",
    "                    \"options\": [\n",
    "                        \"Mais recente\",\n",
    "                        \"Mais antigo\",\n",
    "                        \"Produto (A-Z)\"\n",
    "                    ]\n",
    "                }\n",
    "            },\n",
    "            {\n",
    "                \"type\": \"DateSection\",\n",
    "                \"attributes\": {\n",
    "                    \"date\": \"16 de Agosto 2021\"\n",
    "                }\n",
    "            },\n",
    "            {\n",
    "                \"type\": \"ItemCard\",\n",
    "                \"attributes\": {\n",
    "                    \"title\": \"Frete gr\\u00e1tis\",\n",
    "                    \"product\": \"Minicarregadora Jmv Ws50 - Tipo Bobcat\",\n",
    "                    \"color\": \"Negro e Amarelo\",\n",
    "                    \"price\": \"R$32.500.000,00\",\n",
    "                    \"quantity\": \"5 unidades\",\n",
    "                    \"status\": \"Reclama\\u00e7\\u00e3o aberta\"\n",
    "                },\n",
    "                \"actions\": [\n",
    "                    {\n",
    "                        \"type\": \"Button\",\n",
    "                        \"label\": \"Mensagens\"\n",
    "                    },\n",
    "                    {\n",
    "                        \"type\": \"Button\",\n",
    "                        \"label\": \"Confirmar recebimento\"\n",
    "                    }\n",
    "                ]\n",
    "            },\n",
    "            {\n",
    "                \"type\": \"DateSection\",\n",
    "                \"attributes\": {\n",
    "                    \"date\": \"12 de Julho 2021\"\n",
    "                }\n",
    "            },\n",
    "            {\n",
    "                \"type\": \"ItemCard\",\n",
    "                \"attributes\": {\n",
    "                    \"title\": \"Recebido\",\n",
    "                    \"product\": \"Minicarregadora Jmv Ws50 - Tipo Bobcat\",\n",
    "                    \"color\": \"Negro e Amarelo\",\n",
    "                    \"price\": \"R$32.500.000,00\",\n",
    "                    \"quantity\": \"5 unidades\",\n",
    "                    \"status\": \"Avaliar produto\"\n",
    "                },\n",
    "                \"actions\": [\n",
    "                    {\n",
    "                        \"type\": \"Button\",\n",
    "                        \"label\": \"Mensagens\"\n",
    "                    },\n",
    "                    {\n",
    "                        \"type\": \"Button\",\n",
    "                        \"label\": \"Confirmar recebimento\"\n",
    "                    }\n",
    "                ]\n",
    "            },\n",
    "            {\n",
    "                \"type\": \"ItemCard\",\n",
    "                \"attributes\": {\n",
    "                    \"title\": \"Recebido\",\n",
    "                    \"product\": \"Minicarregadora Jmv Ws50 - Tipo Bobcat\",\n",
    "                    \"color\": \"Negro e Amarelo\",\n",
    "                    \"price\": \"R$32.500.000,00\",\n",
    "                    \"quantity\": \"5 unidades\",\n",
    "                    \"status\": \"Reclama\\u00e7\\u00e3o aberta\"\n",
    "                },\n",
    "                \"actions\": [\n",
    "                    {\n",
    "                        \"type\": \"Button\",\n",
    "                        \"label\": \"Mensagens\"\n",
    "                    },\n",
    "                    {\n",
    "                        \"type\": \"Button\",\n",
    "                        \"label\": \"Confirmar recebimento\"\n",
    "                    }\n",
    "                ]\n",
    "            },\n",
    "            {\n",
    "                \"type\": \"ItemCard\",\n",
    "                \"attributes\": {\n",
    "                    \"title\": \"Recebido\",\n",
    "                    \"product\": \"Minicarregadora Jmv Ws50 - Tipo Bobcat\",\n",
    "                    \"color\": \"Negro e Amarelo\",\n",
    "                    \"price\": \"R$32.500.000,00\",\n",
    "                    \"quantity\": \"5 unidades\",\n",
    "                    \"status\": \"Comprar novamente\"\n",
    "                },\n",
    "                \"actions\": [\n",
    "                    {\n",
    "                        \"type\": \"Button\",\n",
    "                        \"label\": \"Mensagens\"\n",
    "                    }\n",
    "                ]\n",
    "            },\n",
    "            {\n",
    "                \"type\": \"ItemCard\",\n",
    "                \"attributes\": {\n",
    "                    \"title\": \"Cancelado\",\n",
    "                    \"product\": \"Minicarregadora Jmv Ws50 - Tipo Bobcat\",\n",
    "                    \"color\": \"Negro e Amarelo\",\n",
    "                    \"price\": \"R$32.500.000,00\",\n",
    "                    \"quantity\": \"5 unidades\",\n",
    "                    \"status\": \"Comprar novamente\"\n",
    "                },\n",
    "                \"actions\": [\n",
    "                    {\n",
    "                        \"type\": \"Button\",\n",
    "                        \"label\": \"Mensagens\"\n",
    "                    }\n",
    "                ]\n",
    "            },\n",
    "            {\n",
    "                \"type\": \"Logo\",\n",
    "                \"attributes\": {\n",
    "                    \"position\": \"bottom\"\n",
    "                }\n",
    "            }\n",
    "        ],\n",
    "        \"relationships\": {\n",
    "            \"Header\": \"contains NavigationBar, FilterButton, SortDropdown\",\n",
    "            \"NavigationBar\": \"links to Compras, Reservas, Or\\u00e7amentos\",\n",
    "            \"DateSection\": \"precedes ItemCard\",\n",
    "            \"ItemCard\": \"contains actions\",\n",
    "            \"actions\": \"includes Buttons\"\n",
    "        }\n",
    "    }\n",
    "}\n",
    "\"\"\"\n"
   ],
   "id": "43b3730b6e35d15",
   "outputs": [],
   "execution_count": 5
  },
  {
   "metadata": {},
   "cell_type": "markdown",
   "source": "# #1: Regular prompt",
   "id": "65523e5780fad3e7"
  },
  {
   "metadata": {
    "ExecuteTime": {
     "end_time": "2024-09-27T19:21:09.828832Z",
     "start_time": "2024-09-27T19:21:09.812683Z"
    }
   },
   "cell_type": "code",
   "source": [
    "basic_prompt = \"\"\"Analyze the following app screen and list its functional requirements (FR) in detail.\n",
    "Format your answer as: FR#{i}: The system must {requirement}. Provide only the list of requirements.\n",
    "\"\"\""
   ],
   "id": "ac6563c29e88bcd4",
   "outputs": [],
   "execution_count": 6
  },
  {
   "metadata": {
    "ExecuteTime": {
     "end_time": "2024-09-27T19:21:15.812860Z",
     "start_time": "2024-09-27T19:21:09.828832Z"
    }
   },
   "cell_type": "code",
   "source": [
    "# Basic request structure\n",
    "\n",
    "basic_prompt_output = client.chat.completions.create(\n",
    "  model=\"gpt-4o-mini\",\n",
    "  messages=[\n",
    "    {\n",
    "      \"role\": \"user\",\n",
    "      \"content\": [\n",
    "        {\"type\": \"text\", \"text\": basic_prompt},\n",
    "        {\n",
    "          \"type\": \"image_url\",\n",
    "          \"image_url\": {\n",
    "            \"url\": url\n",
    "          },\n",
    "        },\n",
    "      ],\n",
    "    }\n",
    "  ],\n",
    "  temperature=0.2,\n",
    "  max_tokens=1000,\n",
    ")"
   ],
   "id": "ff25c6db36fafd9a",
   "outputs": [],
   "execution_count": 7
  },
  {
   "metadata": {
    "ExecuteTime": {
     "end_time": "2024-09-27T19:21:15.828453Z",
     "start_time": "2024-09-27T19:21:15.812860Z"
    }
   },
   "cell_type": "code",
   "source": "display_response(basic_prompt_output)",
   "id": "99dcfa50311d02c9",
   "outputs": [
    {
     "data": {
      "text/plain": [
       "<IPython.core.display.Markdown object>"
      ],
      "text/markdown": "FR1: The system must allow users to search for items using a search bar.\n\nFR2: The system must display a list of purchases with relevant details such as date, status, and item description.\n\nFR3: The system must provide filtering options to sort purchases by criteria such as \"Mais recente\" (Most recent), \"Mais antigo\" (Oldest), and \"Produto (A-Z)\".\n\nFR4: The system must allow users to view messages related to each purchase.\n\nFR5: The system must provide an option to confirm receipt of items.\n\nFR6: The system must indicate if there is an open claim for a purchase.\n\nFR7: The system must allow users to evaluate products.\n\nFR8: The system must allow users to evaluate vendors.\n\nFR9: The system must provide an option to purchase items again.\n\nFR10: The system must display the total price and quantity of items for each purchase."
     },
     "metadata": {},
     "output_type": "display_data"
    }
   ],
   "execution_count": 8
  },
  {
   "metadata": {},
   "cell_type": "markdown",
   "source": "# #2: Two-Step Prompt (with scene graph)",
   "id": "6fbdb88a13696ee0"
  },
  {
   "metadata": {},
   "cell_type": "markdown",
   "source": "## Generate scene graph",
   "id": "f875218dbf16700d"
  },
  {
   "metadata": {
    "ExecuteTime": {
     "end_time": "2024-09-27T19:21:15.844242Z",
     "start_time": "2024-09-27T19:21:15.828453Z"
    }
   },
   "cell_type": "code",
   "source": [
    "sg_prompt = \"\"\"\n",
    "Generate a scene graph for this app mockup by identifying the objects (UI components) and their relationships. Summarize repeated elements and only provide unique attributes for each occurrence. Provide the output as a structured JSON object in the exact format shown below:\n",
    "\n",
    "{\n",
    "    \"sceneGraph\": {\n",
    "        \"objects\": [\n",
    "        ],\n",
    "        \"relationships\": {\n",
    "            \"ComponentType1\": \"relationship description\",\n",
    "        }\n",
    "    }\n",
    "}\n",
    "\n",
    "Do not include any additional text or explanations outside the JSON object.\n",
    "\n",
    "\"\"\""
   ],
   "id": "cd451dd64082b249",
   "outputs": [],
   "execution_count": 9
  },
  {
   "metadata": {
    "ExecuteTime": {
     "end_time": "2024-09-27T19:21:29.414356Z",
     "start_time": "2024-09-27T19:21:15.844242Z"
    }
   },
   "cell_type": "code",
   "source": [
    "scene_graph = client.chat.completions.create(\n",
    "  model=\"gpt-4o-mini\",\n",
    "  messages=[\n",
    "    {\n",
    "      \"role\": \"user\",\n",
    "      \"content\": [\n",
    "        {\"type\": \"text\", \"text\": sg_prompt},\n",
    "        {\n",
    "          \"type\": \"image_url\",\n",
    "          \"image_url\": {\n",
    "            \"url\": url\n",
    "          },\n",
    "        },\n",
    "      ],\n",
    "    }\n",
    "  ],\n",
    "  temperature=0.2,\n",
    "  max_tokens=1000,\n",
    ")"
   ],
   "id": "f9c23c75272f1169",
   "outputs": [],
   "execution_count": 10
  },
  {
   "metadata": {
    "ExecuteTime": {
     "end_time": "2024-09-27T19:21:29.430030Z",
     "start_time": "2024-09-27T19:21:29.414356Z"
    }
   },
   "cell_type": "code",
   "source": "display_response(scene_graph)",
   "id": "d4bd98cb67870a6f",
   "outputs": [
    {
     "data": {
      "text/plain": [
       "<IPython.core.display.Markdown object>"
      ],
      "text/markdown": "```json\n{\n    \"sceneGraph\": {\n        \"objects\": [\n            {\n                \"type\": \"Header\",\n                \"attributes\": {\n                    \"title\": \"Buscar em TodoAgro\"\n                }\n            },\n            {\n                \"type\": \"Tab\",\n                \"attributes\": {\n                    \"label\": \"Compras\"\n                }\n            },\n            {\n                \"type\": \"Tab\",\n                \"attributes\": {\n                    \"label\": \"Reservas\"\n                }\n            },\n            {\n                \"type\": \"Tab\",\n                \"attributes\": {\n                    \"label\": \"Orçamentos\"\n                }\n            },\n            {\n                \"type\": \"Button\",\n                \"attributes\": {\n                    \"label\": \"Mostrar filtros\"\n                }\n            },\n            {\n                \"type\": \"Dropdown\",\n                \"attributes\": {\n                    \"label\": \"Mais recente\"\n                }\n            },\n            {\n                \"type\": \"DateSection\",\n                \"attributes\": {\n                    \"date\": \"16 de Agosto 2021\"\n                }\n            },\n            {\n                \"type\": \"ItemCard\",\n                \"attributes\": {\n                    \"title\": \"Frete grátis\",\n                    \"product\": \"Minicarregadora Jmv Ws50 - Tipo Bobcat\",\n                    \"color\": \"Negro e Amarelo\",\n                    \"price\": \"R$32.500,00\",\n                    \"quantity\": \"5 unidades\"\n                }\n            },\n            {\n                \"type\": \"ItemCard\",\n                \"attributes\": {\n                    \"title\": \"Recebido\",\n                    \"product\": \"Minicarregadora Jmv Ws50 - Tipo Bobcat\",\n                    \"color\": \"Negro e Amarelo\",\n                    \"price\": \"R$32.500,00\",\n                    \"quantity\": \"5 unidades\"\n                }\n            },\n            {\n                \"type\": \"DateSection\",\n                \"attributes\": {\n                    \"date\": \"12 de Julho 2021\"\n                }\n            },\n            {\n                \"type\": \"ItemCard\",\n                \"attributes\": {\n                    \"title\": \"Recebido\",\n                    \"product\": \"Minicarregadora Jmv Ws50 - Tipo Bobcat\",\n                    \"color\": \"Negro e Amarelo\",\n                    \"price\": \"R$32.500,00\",\n                    \"quantity\": \"5 unidades\"\n                }\n            },\n            {\n                \"type\": \"ItemCard\",\n                \"attributes\": {\n                    \"title\": \"Recebido\",\n                    \"product\": \"Minicarregadora Jmv Ws50 - Tipo Bobcat\",\n                    \"color\": \"Negro e Amarelo\",\n                    \"price\": \"R$32.500,00\",\n                    \"quantity\": \"5 unidades\"\n                }\n            },\n            {\n                \"type\": \"ItemCard\",\n                \"attributes\": {\n                    \"title\": \"Recebido\",\n                    \"product\": \"Minicarregadora Jmv Ws50 - Tipo Bobcat\",\n                    \"color\": \"Negro e Amarelo\",\n                    \"price\": \"R$32.500,00\",\n                    \"quantity\": \"5 unidades\"\n                }\n            },\n            {\n                \"type\": \"ItemCard\",\n                \"attributes\": {\n                    \"title\": \"Cancelado\",\n                    \"product\": \"Minicarregadora Jmv Ws50 - Tipo Bobcat\",\n                    \"color\": \"Negro e Amarelo\",\n                    \"price\": \"R$32.500,00\",\n                    \"quantity\": \"5 unidades\"\n                }\n            }\n        ],\n        \"relationships\": {\n            \"Header\": \"contains Tabs and Search Bar\",\n            \"Tab\": \"is part of Header\",\n            \"Button\": \"is below Header\",\n            \"Dropdown\": \"is below Button\",\n            \"DateSection\": \"is above ItemCards\",\n            \"ItemCard\": \"is listed under DateSection\"\n        }\n    }\n}\n```"
     },
     "metadata": {},
     "output_type": "display_data"
    }
   ],
   "execution_count": 11
  },
  {
   "metadata": {},
   "cell_type": "markdown",
   "source": "## Embed scene graph in prompt",
   "id": "a136e2cd1e3bab9f"
  },
  {
   "metadata": {
    "ExecuteTime": {
     "end_time": "2024-09-27T19:21:29.445624Z",
     "start_time": "2024-09-27T19:21:29.430030Z"
    }
   },
   "cell_type": "code",
   "source": [
    "def format_two_step_prompt(first_output, scene_graph):\n",
    "    \"\"\"\n",
    "    Function to format the two-step prompt for the API request.\n",
    "\n",
    "    Args:\n",
    "        first_output (str): The initial functional requirements generated from the basic prompt.\n",
    "        scene_graph (str): The scene graph JSON as a string.\n",
    "\n",
    "    Returns:\n",
    "        str: The formatted prompt for the API request.\n",
    "    \"\"\"\n",
    "    two_step_prompt = f\"\"\"\n",
    "    Step 1: Here is a list of functional requirements (FR) generated based on the app screen:\n",
    "\n",
    "    {first_output}\n",
    "\n",
    "    Step 2: Now, refine this list by reviewing the accompanying scene graph. Add any missing details, correct relationships, \n",
    "    or specify user interactions that the scene graph reveals.\n",
    "\n",
    "    Scene Graph:\n",
    "    {scene_graph}\n",
    "\n",
    "    Format your final answer as:\n",
    "    FR#{'{i}'}: The system must {{requirement}}\\n\\n.\n",
    "    Provide only the refined list of requirements without additional text.\n",
    "    \"\"\"\n",
    "    return two_step_prompt\n"
   ],
   "id": "2201c3778a729441",
   "outputs": [],
   "execution_count": 12
  },
  {
   "metadata": {
    "ExecuteTime": {
     "end_time": "2024-09-27T20:26:28.809480Z",
     "start_time": "2024-09-27T20:26:28.778311Z"
    }
   },
   "cell_type": "code",
   "source": [
    "formatted_prompt = format_two_step_prompt(basic_prompt_output.choices[0].message.content, scene_graph.choices[0].message.content)\n",
    "print(formatted_prompt)"
   ],
   "id": "c1e569444283108b",
   "outputs": [
    {
     "name": "stdout",
     "output_type": "stream",
     "text": [
      "\n",
      "    Step 1: Here is a list of functional requirements (FR) generated based on the app screen:\n",
      "\n",
      "    FR1: The system must allow users to search for items using a search bar.\n",
      "\n",
      "FR2: The system must display a list of purchases with relevant details such as date, status, and item description.\n",
      "\n",
      "FR3: The system must provide filtering options to sort purchases by criteria such as \"Mais recente\" (Most recent), \"Mais antigo\" (Oldest), and \"Produto (A-Z)\".\n",
      "\n",
      "FR4: The system must allow users to view messages related to each purchase.\n",
      "\n",
      "FR5: The system must provide an option to confirm receipt of items.\n",
      "\n",
      "FR6: The system must indicate if there is an open claim for a purchase.\n",
      "\n",
      "FR7: The system must allow users to evaluate products.\n",
      "\n",
      "FR8: The system must allow users to evaluate vendors.\n",
      "\n",
      "FR9: The system must provide an option to purchase items again.\n",
      "\n",
      "FR10: The system must display the total price and quantity of items for each purchase.\n",
      "\n",
      "    Step 2: Now, refine this list by reviewing the accompanying scene graph. Add any missing details, correct relationships, \n",
      "    or specify user interactions that the scene graph reveals.\n",
      "\n",
      "    Scene Graph:\n",
      "    ```json\n",
      "{\n",
      "    \"sceneGraph\": {\n",
      "        \"objects\": [\n",
      "            {\n",
      "                \"type\": \"Header\",\n",
      "                \"attributes\": {\n",
      "                    \"title\": \"Buscar em TodoAgro\"\n",
      "                }\n",
      "            },\n",
      "            {\n",
      "                \"type\": \"Tab\",\n",
      "                \"attributes\": {\n",
      "                    \"label\": \"Compras\"\n",
      "                }\n",
      "            },\n",
      "            {\n",
      "                \"type\": \"Tab\",\n",
      "                \"attributes\": {\n",
      "                    \"label\": \"Reservas\"\n",
      "                }\n",
      "            },\n",
      "            {\n",
      "                \"type\": \"Tab\",\n",
      "                \"attributes\": {\n",
      "                    \"label\": \"Orçamentos\"\n",
      "                }\n",
      "            },\n",
      "            {\n",
      "                \"type\": \"Button\",\n",
      "                \"attributes\": {\n",
      "                    \"label\": \"Mostrar filtros\"\n",
      "                }\n",
      "            },\n",
      "            {\n",
      "                \"type\": \"Dropdown\",\n",
      "                \"attributes\": {\n",
      "                    \"label\": \"Mais recente\"\n",
      "                }\n",
      "            },\n",
      "            {\n",
      "                \"type\": \"DateSection\",\n",
      "                \"attributes\": {\n",
      "                    \"date\": \"16 de Agosto 2021\"\n",
      "                }\n",
      "            },\n",
      "            {\n",
      "                \"type\": \"ItemCard\",\n",
      "                \"attributes\": {\n",
      "                    \"title\": \"Frete grátis\",\n",
      "                    \"product\": \"Minicarregadora Jmv Ws50 - Tipo Bobcat\",\n",
      "                    \"color\": \"Negro e Amarelo\",\n",
      "                    \"price\": \"R$32.500,00\",\n",
      "                    \"quantity\": \"5 unidades\"\n",
      "                }\n",
      "            },\n",
      "            {\n",
      "                \"type\": \"ItemCard\",\n",
      "                \"attributes\": {\n",
      "                    \"title\": \"Recebido\",\n",
      "                    \"product\": \"Minicarregadora Jmv Ws50 - Tipo Bobcat\",\n",
      "                    \"color\": \"Negro e Amarelo\",\n",
      "                    \"price\": \"R$32.500,00\",\n",
      "                    \"quantity\": \"5 unidades\"\n",
      "                }\n",
      "            },\n",
      "            {\n",
      "                \"type\": \"DateSection\",\n",
      "                \"attributes\": {\n",
      "                    \"date\": \"12 de Julho 2021\"\n",
      "                }\n",
      "            },\n",
      "            {\n",
      "                \"type\": \"ItemCard\",\n",
      "                \"attributes\": {\n",
      "                    \"title\": \"Recebido\",\n",
      "                    \"product\": \"Minicarregadora Jmv Ws50 - Tipo Bobcat\",\n",
      "                    \"color\": \"Negro e Amarelo\",\n",
      "                    \"price\": \"R$32.500,00\",\n",
      "                    \"quantity\": \"5 unidades\"\n",
      "                }\n",
      "            },\n",
      "            {\n",
      "                \"type\": \"ItemCard\",\n",
      "                \"attributes\": {\n",
      "                    \"title\": \"Recebido\",\n",
      "                    \"product\": \"Minicarregadora Jmv Ws50 - Tipo Bobcat\",\n",
      "                    \"color\": \"Negro e Amarelo\",\n",
      "                    \"price\": \"R$32.500,00\",\n",
      "                    \"quantity\": \"5 unidades\"\n",
      "                }\n",
      "            },\n",
      "            {\n",
      "                \"type\": \"ItemCard\",\n",
      "                \"attributes\": {\n",
      "                    \"title\": \"Recebido\",\n",
      "                    \"product\": \"Minicarregadora Jmv Ws50 - Tipo Bobcat\",\n",
      "                    \"color\": \"Negro e Amarelo\",\n",
      "                    \"price\": \"R$32.500,00\",\n",
      "                    \"quantity\": \"5 unidades\"\n",
      "                }\n",
      "            },\n",
      "            {\n",
      "                \"type\": \"ItemCard\",\n",
      "                \"attributes\": {\n",
      "                    \"title\": \"Cancelado\",\n",
      "                    \"product\": \"Minicarregadora Jmv Ws50 - Tipo Bobcat\",\n",
      "                    \"color\": \"Negro e Amarelo\",\n",
      "                    \"price\": \"R$32.500,00\",\n",
      "                    \"quantity\": \"5 unidades\"\n",
      "                }\n",
      "            }\n",
      "        ],\n",
      "        \"relationships\": {\n",
      "            \"Header\": \"contains Tabs and Search Bar\",\n",
      "            \"Tab\": \"is part of Header\",\n",
      "            \"Button\": \"is below Header\",\n",
      "            \"Dropdown\": \"is below Button\",\n",
      "            \"DateSection\": \"is above ItemCards\",\n",
      "            \"ItemCard\": \"is listed under DateSection\"\n",
      "        }\n",
      "    }\n",
      "}\n",
      "```\n",
      "\n",
      "    Format your final answer as:\n",
      "    FR#{i}: The system must {requirement}.\n",
      "    Provide only the refined list of requirements without additional text.\n",
      "    \n"
     ]
    }
   ],
   "execution_count": 23
  },
  {
   "metadata": {
    "ExecuteTime": {
     "end_time": "2024-09-27T19:21:44.423302Z",
     "start_time": "2024-09-27T19:21:29.461359Z"
    }
   },
   "cell_type": "code",
   "source": [
    "two_step_output = client.chat.completions.create(\n",
    "    model=\"gpt-4o-mini\",\n",
    "    messages=[\n",
    "        {\n",
    "            \"role\": \"user\",\n",
    "            \"content\": [\n",
    "                {\"type\": \"text\", \"text\": formatted_prompt},\n",
    "                {\n",
    "                    \"type\": \"image_url\",\n",
    "                    \"image_url\": {\n",
    "                        \"url\": url\n",
    "                    },\n",
    "                },\n",
    "            ],\n",
    "        }\n",
    "    ],\n",
    "    temperature=0.2,\n",
    "    max_tokens=1000,\n",
    ")"
   ],
   "id": "442e437d9d01db5d",
   "outputs": [],
   "execution_count": 14
  },
  {
   "metadata": {
    "ExecuteTime": {
     "end_time": "2024-09-27T19:22:17.135572Z",
     "start_time": "2024-09-27T19:22:17.120467Z"
    }
   },
   "cell_type": "code",
   "source": "display(two_step_output.choices[0].message.content)",
   "id": "a495b2c1d2edbdd0",
   "outputs": [
    {
     "data": {
      "text/plain": [
       "'FR1: The system must allow users to search for items using a search bar.\\n\\nFR2: The system must display a list of purchases with relevant details such as date, status, and item description.\\n\\nFR3: The system must provide filtering options to sort purchases by criteria such as \"Mais recente\" (Most recent), \"Mais antigo\" (Oldest), and \"Produto (A-Z)\".\\n\\nFR4: The system must allow users to view messages related to each purchase.\\n\\nFR5: The system must provide an option to confirm receipt of items.\\n\\nFR6: The system must indicate if there is an open claim for a purchase.\\n\\nFR7: The system must allow users to evaluate products.\\n\\nFR8: The system must allow users to evaluate vendors.\\n\\nFR9: The system must provide an option to purchase items again.\\n\\nFR10: The system must display the total price and quantity of items for each purchase.\\n\\nFR11: The system must allow users to access filtering options through a button labeled \"Mostrar filtros\".\\n\\nFR12: The system must display a dropdown for sorting purchases, including options for \"Mais recente\", \"Mais antigo\", and \"Produto (A-Z)\".\\n\\nFR13: The system must display a date section above the item cards to indicate the purchase date.\\n\\nFR14: The system must display the status of each purchase, such as \"Recebido\", \"Frete grátis\", and \"Cancelado\".'"
      ]
     },
     "metadata": {},
     "output_type": "display_data"
    }
   ],
   "execution_count": 16
  },
  {
   "metadata": {},
   "cell_type": "markdown",
   "source": "## Only SG (no basic)",
   "id": "5a6cf6880c45b52"
  },
  {
   "metadata": {
    "ExecuteTime": {
     "end_time": "2024-09-30T19:33:55.045535Z",
     "start_time": "2024-09-30T19:33:45.262425Z"
    }
   },
   "cell_type": "code",
   "source": [
    "scene_graph = trial_first_scene_graph\n",
    "\n",
    "sg_only_prompt = f\"\"\"Analyze the following app screen and its accompanying scene graph\n",
    "and list its functional requirements (FR) in detail. Format your answer as:\n",
    "\n",
    "{scene_graph}\n",
    "\n",
    "FR#[i]: The system must [requirement].\\n\\n \n",
    "Provide only the list of requirements without additional text.\n",
    "\"\"\"\n",
    "sg_only = client.chat.completions.create(\n",
    "    model=\"gpt-4o-mini\",\n",
    "    messages=[\n",
    "        {\n",
    "            \"role\": \"user\",\n",
    "            \"content\": [\n",
    "                {\"type\": \"text\", \"text\": sg_only_prompt},\n",
    "                {\n",
    "                    \"type\": \"image_url\",\n",
    "                    \"image_url\": {\n",
    "                        \"url\": url\n",
    "                    },\n",
    "                },\n",
    "            ],\n",
    "        }\n",
    "    ],\n",
    "    temperature=0.2,\n",
    "    max_tokens=1000,\n",
    ")"
   ],
   "id": "5961f874bf42acaf",
   "outputs": [],
   "execution_count": 6
  },
  {
   "metadata": {
    "ExecuteTime": {
     "end_time": "2024-09-30T19:34:01.883739Z",
     "start_time": "2024-09-30T19:34:01.868114Z"
    }
   },
   "cell_type": "code",
   "source": "display_response(sg_only)",
   "id": "130d0e95a374e6cb",
   "outputs": [
    {
     "data": {
      "text/plain": [
       "<IPython.core.display.Markdown object>"
      ],
      "text/markdown": "```json\n{\n    \"functionalRequirements\": [\n        \"FR#1: The system must display a header with the title 'Buscar em TodoAgro' at the top of the screen.\",\n        \"FR#2: The system must provide a navigation bar with items for 'Compras', 'Reservas', and 'Orçamentos'.\",\n        \"FR#3: The system must include a filter button labeled 'Mostrar filtros'.\",\n        \"FR#4: The system must provide a sort dropdown with options for 'Mais recente', 'Mais antigo', and 'Produto (A-Z)'.\",\n        \"FR#5: The system must display date sections for each group of item cards.\",\n        \"FR#6: The system must display item cards with product details including title, product name, color, price, quantity, and status.\",\n        \"FR#7: The system must include action buttons on each item card, such as 'Mensagens' and 'Confirmar recebimento'.\",\n        \"FR#8: The system must allow users to evaluate products through an 'Avaliar produto' button on relevant item cards.\",\n        \"FR#9: The system must provide a logo positioned at the bottom of the screen.\",\n        \"FR#10: The system must ensure that item cards are grouped by their respective date sections.\"\n    ]\n}\n```"
     },
     "metadata": {},
     "output_type": "display_data"
    }
   ],
   "execution_count": 7
  },
  {
   "metadata": {},
   "cell_type": "markdown",
   "source": "# Storytelling Prompt",
   "id": "a08a272169e5cb44"
  },
  {
   "metadata": {},
   "cell_type": "markdown",
   "source": "## Craft personas and stories",
   "id": "e5696cb5897eb7f1"
  },
  {
   "metadata": {
    "ExecuteTime": {
     "end_time": "2024-09-27T20:23:40.105940Z",
     "start_time": "2024-09-27T20:23:40.076352Z"
    }
   },
   "cell_type": "code",
   "source": [
    "user_story_prompt = \"\"\"\n",
    "Consider the following app mockup and its data:\n",
    "\n",
    "{Caption}\n",
    "{Process Flow}\n",
    "\n",
    "Identify the potential user personas and roles and create a user story for each one using the provided json template:\n",
    "{\n",
    "  \"Persona #1\": {\n",
    "    \"who\": {\n",
    "      \"name\": \"\",\n",
    "      \"demographics\": {\n",
    "        \"age\": 0,\n",
    "        \"gender\": \"\",\n",
    "        \"organization\": \"\",\n",
    "        \"location\": \"\"\n",
    "      },\n",
    "      \"role\": \"\"\n",
    "    },\n",
    "    \"what\": {\n",
    "      \"requirement\": \"\"\n",
    "    },\n",
    "    \"why\": {\n",
    "      \"motivation\": \"\"\n",
    "    },\n",
    "    \"storytelling\": {\n",
    "      \"story\": \"\"\n",
    "    }\n",
    "  }\n",
    "}\n",
    "\n",
    "Provide only the json structure with no additional text. \n",
    "\"\"\""
   ],
   "id": "c50385662e36d4f6",
   "outputs": [],
   "execution_count": 19
  },
  {
   "metadata": {
    "ExecuteTime": {
     "end_time": "2024-09-30T19:43:27.132393Z",
     "start_time": "2024-09-30T19:43:27.116763Z"
    }
   },
   "cell_type": "code",
   "source": [
    "user_stories = \"\"\"\n",
    "{\n",
    "  \"Persona #1\": {\n",
    "    \"who\": {\n",
    "      \"name\": \"Carlos\",\n",
    "      \"demographics\": {\n",
    "        \"age\": 45,\n",
    "        \"gender\": \"male\",\n",
    "        \"organization\": \"AgroFarm Ltd.\",\n",
    "        \"location\": \"São Paulo, Brazil\"\n",
    "      },\n",
    "      \"role\": \"Farm Manager\"\n",
    "    },\n",
    "    \"what\": {\n",
    "      \"requirement\": \"Carlos needs to efficiently manage and track his agricultural equipment orders.\"\n",
    "    },\n",
    "    \"why\": {\n",
    "      \"motivation\": \"To ensure timely delivery and manage his farm's operations smoothly.\"\n",
    "    },\n",
    "    \"storytelling\": {\n",
    "      \"story\": \"Carlos, a farm manager at AgroFarm Ltd., uses the e-commerce platform to order various agricultural equipment. He needs a streamlined process to track his orders, communicate with sellers, and confirm receipt of items. The app's order management page allows him to filter and sort his orders, view order details, and take necessary actions like confirming receipt or opening claims, ensuring his farm operations run without interruptions.\"\n",
    "    }\n",
    "  },\n",
    "  \"Persona #2\": {\n",
    "    \"who\": {\n",
    "      \"name\": \"Maria\",\n",
    "      \"demographics\": {\n",
    "        \"age\": 32,\n",
    "        \"gender\": \"female\",\n",
    "        \"organization\": \"GreenFields Co.\",\n",
    "        \"location\": \"Curitiba, Brazil\"\n",
    "      },\n",
    "      \"role\": \"Procurement Officer\"\n",
    "    },\n",
    "    \"what\": {\n",
    "      \"requirement\": \"Maria needs to keep track of multiple orders and ensure they meet the company's procurement standards.\"\n",
    "    },\n",
    "    \"why\": {\n",
    "      \"motivation\": \"To maintain a steady supply of equipment and materials for the company's agricultural projects.\"\n",
    "    },\n",
    "    \"storytelling\": {\n",
    "      \"story\": \"Maria, a procurement officer at GreenFields Co., oversees the purchase of agricultural equipment. She uses the e-commerce platform to place orders and needs to monitor their status to ensure timely arrival and compliance with procurement standards. The order management page helps her sort orders by date, product, and status, allowing her to quickly address any issues such as delays or discrepancies, ensuring her company's projects proceed as planned.\"\n",
    "    }\n",
    "  }\n",
    "}\n",
    "\"\"\""
   ],
   "id": "f854ee3ac57fdcfb",
   "outputs": [],
   "execution_count": 9
  },
  {
   "metadata": {},
   "cell_type": "markdown",
   "source": "## Embed stories into prompt",
   "id": "65444c984474fb9a"
  },
  {
   "metadata": {
    "ExecuteTime": {
     "end_time": "2024-09-27T20:40:24.144547Z",
     "start_time": "2024-09-27T20:40:24.128831Z"
    }
   },
   "cell_type": "code",
   "source": [
    "def format_storytelling_prompt(user_stories):\n",
    "    \"\"\"\n",
    "    Function to format the two-step prompt for the API request.\n",
    "\n",
    "    Args:\n",
    "        user_stories (str): The user stories JSON as a string.\n",
    "\n",
    "    Returns:\n",
    "        str: The formatted prompt for the API request.\n",
    "    \"\"\"\n",
    "    st_prompt = f\"\"\"\n",
    "    Step 1: Here is a list of user stories generated based on the app mockup:\n",
    "\n",
    "    {user_stories}\n",
    "\n",
    "    Step 2: Now, Analyze the mockup and list its functional requirements (FR) in detail. Add any missing details, \n",
    "    correct relationships, or specify user interactions that the user stories reveal.\n",
    "\n",
    "    Format your final answer as:\n",
    "    FR#{'{i}'}: The system must {{requirement}}.\\n\n",
    "    \n",
    "    Provide only the list of requirements without additional text.\n",
    "\n",
    "    \"\"\"\n",
    "    return st_prompt\n"
   ],
   "id": "332d00d00aa543",
   "outputs": [],
   "execution_count": 36
  },
  {
   "metadata": {
    "ExecuteTime": {
     "end_time": "2024-09-27T20:40:26.263195Z",
     "start_time": "2024-09-27T20:40:26.231875Z"
    }
   },
   "cell_type": "code",
   "source": [
    "st_prompt = format_storytelling_prompt(user_stories)\n",
    "print(st_prompt)"
   ],
   "id": "b2647851dace6f6c",
   "outputs": [
    {
     "name": "stdout",
     "output_type": "stream",
     "text": [
      "\n",
      "    Step 1: Here is a list of user stories generated based on the app mockup:\n",
      "\n",
      "    \n",
      "{\n",
      "  \"Persona #1\": {\n",
      "    \"who\": {\n",
      "      \"name\": \"Carlos\",\n",
      "      \"demographics\": {\n",
      "        \"age\": 45,\n",
      "        \"gender\": \"male\",\n",
      "        \"organization\": \"AgroFarm Ltd.\",\n",
      "        \"location\": \"São Paulo, Brazil\"\n",
      "      },\n",
      "      \"role\": \"Farm Manager\"\n",
      "    },\n",
      "    \"what\": {\n",
      "      \"requirement\": \"Carlos needs to efficiently manage and track his agricultural equipment orders.\"\n",
      "    },\n",
      "    \"why\": {\n",
      "      \"motivation\": \"To ensure timely delivery and manage his farm's operations smoothly.\"\n",
      "    },\n",
      "    \"storytelling\": {\n",
      "      \"story\": \"Carlos, a farm manager at AgroFarm Ltd., uses the e-commerce platform to order various agricultural equipment. He needs a streamlined process to track his orders, communicate with sellers, and confirm receipt of items. The app's order management page allows him to filter and sort his orders, view order details, and take necessary actions like confirming receipt or opening claims, ensuring his farm operations run without interruptions.\"\n",
      "    }\n",
      "  },\n",
      "  \"Persona #2\": {\n",
      "    \"who\": {\n",
      "      \"name\": \"Maria\",\n",
      "      \"demographics\": {\n",
      "        \"age\": 32,\n",
      "        \"gender\": \"female\",\n",
      "        \"organization\": \"GreenFields Co.\",\n",
      "        \"location\": \"Curitiba, Brazil\"\n",
      "      },\n",
      "      \"role\": \"Procurement Officer\"\n",
      "    },\n",
      "    \"what\": {\n",
      "      \"requirement\": \"Maria needs to keep track of multiple orders and ensure they meet the company's procurement standards.\"\n",
      "    },\n",
      "    \"why\": {\n",
      "      \"motivation\": \"To maintain a steady supply of equipment and materials for the company's agricultural projects.\"\n",
      "    },\n",
      "    \"storytelling\": {\n",
      "      \"story\": \"Maria, a procurement officer at GreenFields Co., oversees the purchase of agricultural equipment. She uses the e-commerce platform to place orders and needs to monitor their status to ensure timely arrival and compliance with procurement standards. The order management page helps her sort orders by date, product, and status, allowing her to quickly address any issues such as delays or discrepancies, ensuring her company's projects proceed as planned.\"\n",
      "    }\n",
      "  }\n",
      "}\n",
      "\n",
      "\n",
      "    Step 2: Now, Analyze the mockup and list its functional requirements (FR) in detail. Add any missing details, \n",
      "    correct relationships, or specify user interactions that the user stories reveal.\n",
      "\n",
      "    Format your final answer as:\n",
      "    FR#{i}: The system must {requirement}.\n",
      "\n",
      "    \n",
      "    Provide only the list of requirements without additional text.\n",
      "\n",
      "    \n"
     ]
    }
   ],
   "execution_count": 37
  },
  {
   "metadata": {
    "ExecuteTime": {
     "end_time": "2024-09-27T20:40:47.316693Z",
     "start_time": "2024-09-27T20:40:40.124056Z"
    }
   },
   "cell_type": "code",
   "source": [
    "st_output = client.chat.completions.create(\n",
    "    model=\"gpt-4o-mini\",\n",
    "    messages=[\n",
    "        {\n",
    "            \"role\": \"user\",\n",
    "            \"content\": [\n",
    "                {\"type\": \"text\", \"text\": st_prompt},\n",
    "                {\n",
    "                    \"type\": \"image_url\",\n",
    "                    \"image_url\": {\n",
    "                        \"url\": url\n",
    "                    },\n",
    "                },\n",
    "            ],\n",
    "        }\n",
    "    ],\n",
    "    temperature=0.2,\n",
    "    max_tokens=2000,\n",
    ")"
   ],
   "id": "843e9d961b18f850",
   "outputs": [],
   "execution_count": 38
  },
  {
   "metadata": {
    "ExecuteTime": {
     "end_time": "2024-09-27T20:40:49.203069Z",
     "start_time": "2024-09-27T20:40:49.187433Z"
    }
   },
   "cell_type": "code",
   "source": "st_output",
   "id": "93c065c69f144b72",
   "outputs": [
    {
     "data": {
      "text/plain": [
       "ChatCompletion(id='chatcmpl-ACC3VmgvHmnBBDY3kpwHxANgT3Gdw', choices=[Choice(finish_reason='stop', index=0, logprobs=None, message=ChatCompletionMessage(content='FR#1: The system must allow users to filter and sort their orders by date, product, and status.\\n\\nFR#2: The system must provide a detailed view of each order, including product information, order status, and delivery details.\\n\\nFR#3: The system must enable users to confirm receipt of items upon delivery.\\n\\nFR#4: The system must allow users to open claims for any issues with received items.\\n\\nFR#5: The system must facilitate communication between users and sellers through a messaging feature.\\n\\nFR#6: The system must allow users to evaluate products and sellers after receiving their orders.\\n\\nFR#7: The system must display the order history in a chronological format, showing the most recent orders at the top.\\n\\nFR#8: The system must provide notifications for order status updates, such as shipment and delivery confirmations.', refusal=None, role='assistant', function_call=None, tool_calls=None))], created=1727469641, model='gpt-4o-mini-2024-07-18', object='chat.completion', service_tier=None, system_fingerprint='fp_74ba47b4ac', usage=CompletionUsage(completion_tokens=168, prompt_tokens=20378, total_tokens=20546, completion_tokens_details={'reasoning_tokens': 0}))"
      ]
     },
     "execution_count": 39,
     "metadata": {},
     "output_type": "execute_result"
    }
   ],
   "execution_count": 39
  },
  {
   "metadata": {
    "ExecuteTime": {
     "end_time": "2024-09-27T20:53:30.059464Z",
     "start_time": "2024-09-27T20:53:30.043407Z"
    }
   },
   "cell_type": "code",
   "source": "display_response(st_output)",
   "id": "c68fdcce0e3ea210",
   "outputs": [
    {
     "data": {
      "text/plain": [
       "<IPython.core.display.Markdown object>"
      ],
      "text/markdown": "FR#1: The system must allow users to filter and sort their orders by date, product, and status.\n\nFR#2: The system must provide a detailed view of each order, including product information, order status, and delivery details.\n\nFR#3: The system must enable users to confirm receipt of items upon delivery.\n\nFR#4: The system must allow users to open claims for any issues with received items.\n\nFR#5: The system must facilitate communication between users and sellers through a messaging feature.\n\nFR#6: The system must allow users to evaluate products and sellers after receiving their orders.\n\nFR#7: The system must display the order history in a chronological format, showing the most recent orders at the top.\n\nFR#8: The system must provide notifications for order status updates, such as shipment and delivery confirmations."
     },
     "metadata": {},
     "output_type": "display_data"
    }
   ],
   "execution_count": 42
  },
  {
   "metadata": {},
   "cell_type": "markdown",
   "source": "# Scene graph and Storytelling",
   "id": "444fd47ea74dd7e9"
  },
  {
   "metadata": {
    "ExecuteTime": {
     "end_time": "2024-09-30T19:42:55.343435Z",
     "start_time": "2024-09-30T19:42:55.315342Z"
    }
   },
   "cell_type": "code",
   "source": [
    "def format_storytelling_prompt(user_stories, scene_graph):\n",
    "    \"\"\"\n",
    "    Function to format the prompt for the API request to include user stories and the scene graph.\n",
    "\n",
    "    Args:\n",
    "        user_stories (str): The user stories JSON as a string.\n",
    "        scene_graph (str): The scene graph JSON as a string.\n",
    "\n",
    "    Returns:\n",
    "        str: The formatted prompt for the API request.\n",
    "    \"\"\"\n",
    "    st_prompt = f\"\"\"\n",
    "    Step 1: Here is a list of user stories generated based on the app mockup:\n",
    "\n",
    "    {user_stories}\n",
    "\n",
    "    Step 2: Review the following scene graph, which provides detailed information on the app's UI elements, their relationships, \n",
    "    and user interactions:\n",
    "\n",
    "    Scene Graph:\n",
    "    {scene_graph}\n",
    "\n",
    "    Step 3: Now, analyze the mockup and list its functional requirements (FR) in detail. Use both the user stories and scene graph \n",
    "    to add any missing details, correct relationships, or specify user interactions.\n",
    "\n",
    "    Format your final answer as:\n",
    "    FR#{'{i}'}: The system must {{requirement}}.\\n\n",
    "\n",
    "    Provide only the list of requirements without additional text.\n",
    "    \"\"\"\n",
    "    return st_prompt\n"
   ],
   "id": "2ef5ac859926adec",
   "outputs": [],
   "execution_count": 8
  },
  {
   "metadata": {
    "ExecuteTime": {
     "end_time": "2024-09-30T19:43:40.827467Z",
     "start_time": "2024-09-30T19:43:40.811457Z"
    }
   },
   "cell_type": "code",
   "source": [
    "three_step_prompt = format_storytelling_prompt(user_stories, scene_graph)\n",
    "three_step_prompt"
   ],
   "id": "dbc52f6b5980047e",
   "outputs": [
    {
     "data": {
      "text/plain": [
       "'\\n    Step 1: Here is a list of user stories generated based on the app mockup:\\n\\n    \\n{\\n  \"Persona #1\": {\\n    \"who\": {\\n      \"name\": \"Carlos\",\\n      \"demographics\": {\\n        \"age\": 45,\\n        \"gender\": \"male\",\\n        \"organization\": \"AgroFarm Ltd.\",\\n        \"location\": \"São Paulo, Brazil\"\\n      },\\n      \"role\": \"Farm Manager\"\\n    },\\n    \"what\": {\\n      \"requirement\": \"Carlos needs to efficiently manage and track his agricultural equipment orders.\"\\n    },\\n    \"why\": {\\n      \"motivation\": \"To ensure timely delivery and manage his farm\\'s operations smoothly.\"\\n    },\\n    \"storytelling\": {\\n      \"story\": \"Carlos, a farm manager at AgroFarm Ltd., uses the e-commerce platform to order various agricultural equipment. He needs a streamlined process to track his orders, communicate with sellers, and confirm receipt of items. The app\\'s order management page allows him to filter and sort his orders, view order details, and take necessary actions like confirming receipt or opening claims, ensuring his farm operations run without interruptions.\"\\n    }\\n  },\\n  \"Persona #2\": {\\n    \"who\": {\\n      \"name\": \"Maria\",\\n      \"demographics\": {\\n        \"age\": 32,\\n        \"gender\": \"female\",\\n        \"organization\": \"GreenFields Co.\",\\n        \"location\": \"Curitiba, Brazil\"\\n      },\\n      \"role\": \"Procurement Officer\"\\n    },\\n    \"what\": {\\n      \"requirement\": \"Maria needs to keep track of multiple orders and ensure they meet the company\\'s procurement standards.\"\\n    },\\n    \"why\": {\\n      \"motivation\": \"To maintain a steady supply of equipment and materials for the company\\'s agricultural projects.\"\\n    },\\n    \"storytelling\": {\\n      \"story\": \"Maria, a procurement officer at GreenFields Co., oversees the purchase of agricultural equipment. She uses the e-commerce platform to place orders and needs to monitor their status to ensure timely arrival and compliance with procurement standards. The order management page helps her sort orders by date, product, and status, allowing her to quickly address any issues such as delays or discrepancies, ensuring her company\\'s projects proceed as planned.\"\\n    }\\n  }\\n}\\n\\n\\n    Step 2: Review the following scene graph, which provides detailed information on the app\\'s UI elements, their relationships, \\n    and user interactions:\\n\\n    Scene Graph:\\n    \\n{\\n    \"sceneGraph\": {\\n        \"objects\": [\\n            {\\n                \"type\": \"Header\",\\n                \"attributes\": {\\n                    \"title\": \"Buscar em TodoAgro\",\\n                    \"location\": \"top\"\\n                }\\n            },\\n            {\\n                \"type\": \"NavigationBar\",\\n                \"attributes\": {\\n                    \"items\": [\\n                        \"Compras\",\\n                        \"Reservas\",\\n                        \"Orçamentos\"\\n                    ]\\n                }\\n            },\\n            {\\n                \"type\": \"FilterButton\",\\n                \"attributes\": {\\n                    \"label\": \"Mostrar filtros\"\\n                }\\n            },\\n            {\\n                \"type\": \"SortDropdown\",\\n                \"attributes\": {\\n                    \"options\": [\\n                        \"Mais recente\",\\n                        \"Mais antigo\",\\n                        \"Produto (A-Z)\"\\n                    ]\\n                }\\n            },\\n            {\\n                \"type\": \"DateSection\",\\n                \"attributes\": {\\n                    \"date\": \"16 de Agosto 2021\"\\n                }\\n            },\\n            {\\n                \"type\": \"ItemCard\",\\n                \"attributes\": {\\n                    \"title\": \"Frete grátis\",\\n                    \"product\": \"Minicarregadora Jmv Ws50 - Tipo Bobcat\",\\n                    \"color\": \"Negro e Amarelo\",\\n                    \"price\": \"R$32.500.000,00\",\\n                    \"quantity\": \"5 unidades\",\\n                    \"status\": \"Reclamação aberta\"\\n                },\\n                \"actions\": [\\n                    {\\n                        \"type\": \"Button\",\\n                        \"label\": \"Mensagens\"\\n                    },\\n                    {\\n                        \"type\": \"Button\",\\n                        \"label\": \"Confirmar recebimento\"\\n                    }\\n                ]\\n            },\\n            {\\n                \"type\": \"DateSection\",\\n                \"attributes\": {\\n                    \"date\": \"12 de Julho 2021\"\\n                }\\n            },\\n            {\\n                \"type\": \"ItemCard\",\\n                \"attributes\": {\\n                    \"title\": \"Recebido\",\\n                    \"product\": \"Minicarregadora Jmv Ws50 - Tipo Bobcat\",\\n                    \"color\": \"Negro e Amarelo\",\\n                    \"price\": \"R$32.500.000,00\",\\n                    \"quantity\": \"5 unidades\",\\n                    \"status\": \"Avaliar produto\"\\n                },\\n                \"actions\": [\\n                    {\\n                        \"type\": \"Button\",\\n                        \"label\": \"Mensagens\"\\n                    },\\n                    {\\n                        \"type\": \"Button\",\\n                        \"label\": \"Confirmar recebimento\"\\n                    }\\n                ]\\n            },\\n            {\\n                \"type\": \"ItemCard\",\\n                \"attributes\": {\\n                    \"title\": \"Recebido\",\\n                    \"product\": \"Minicarregadora Jmv Ws50 - Tipo Bobcat\",\\n                    \"color\": \"Negro e Amarelo\",\\n                    \"price\": \"R$32.500.000,00\",\\n                    \"quantity\": \"5 unidades\",\\n                    \"status\": \"Reclamação aberta\"\\n                },\\n                \"actions\": [\\n                    {\\n                        \"type\": \"Button\",\\n                        \"label\": \"Mensagens\"\\n                    },\\n                    {\\n                        \"type\": \"Button\",\\n                        \"label\": \"Confirmar recebimento\"\\n                    }\\n                ]\\n            },\\n            {\\n                \"type\": \"ItemCard\",\\n                \"attributes\": {\\n                    \"title\": \"Recebido\",\\n                    \"product\": \"Minicarregadora Jmv Ws50 - Tipo Bobcat\",\\n                    \"color\": \"Negro e Amarelo\",\\n                    \"price\": \"R$32.500.000,00\",\\n                    \"quantity\": \"5 unidades\",\\n                    \"status\": \"Comprar novamente\"\\n                },\\n                \"actions\": [\\n                    {\\n                        \"type\": \"Button\",\\n                        \"label\": \"Mensagens\"\\n                    }\\n                ]\\n            },\\n            {\\n                \"type\": \"ItemCard\",\\n                \"attributes\": {\\n                    \"title\": \"Cancelado\",\\n                    \"product\": \"Minicarregadora Jmv Ws50 - Tipo Bobcat\",\\n                    \"color\": \"Negro e Amarelo\",\\n                    \"price\": \"R$32.500.000,00\",\\n                    \"quantity\": \"5 unidades\",\\n                    \"status\": \"Comprar novamente\"\\n                },\\n                \"actions\": [\\n                    {\\n                        \"type\": \"Button\",\\n                        \"label\": \"Mensagens\"\\n                    }\\n                ]\\n            },\\n            {\\n                \"type\": \"Logo\",\\n                \"attributes\": {\\n                    \"position\": \"bottom\"\\n                }\\n            }\\n        ],\\n        \"relationships\": {\\n            \"Header\": \"contains NavigationBar, FilterButton, SortDropdown\",\\n            \"NavigationBar\": \"links to Compras, Reservas, Orçamentos\",\\n            \"DateSection\": \"precedes ItemCard\",\\n            \"ItemCard\": \"contains actions\",\\n            \"actions\": \"includes Buttons\"\\n        }\\n    }\\n}\\n\\n\\n    Step 3: Now, analyze the mockup and list its functional requirements (FR) in detail. Use both the user stories and scene graph \\n    to add any missing details, correct relationships, or specify user interactions.\\n\\n    Format your final answer as:\\n    FR#{i}: The system must {requirement}.\\n\\n\\n    Provide only the list of requirements without additional text.\\n    '"
      ]
     },
     "execution_count": 11,
     "metadata": {},
     "output_type": "execute_result"
    }
   ],
   "execution_count": 11
  },
  {
   "metadata": {
    "ExecuteTime": {
     "end_time": "2024-09-30T19:44:52.635420Z",
     "start_time": "2024-09-30T19:44:45.397279Z"
    }
   },
   "cell_type": "code",
   "source": [
    "three_step_output = client.chat.completions.create(\n",
    "    model=\"gpt-4o-mini\",\n",
    "    messages=[\n",
    "        {\n",
    "            \"role\": \"user\",\n",
    "            \"content\": [\n",
    "                {\"type\": \"text\", \"text\": three_step_prompt},\n",
    "                {\n",
    "                    \"type\": \"image_url\",\n",
    "                    \"image_url\": {\n",
    "                        \"url\": url\n",
    "                    },\n",
    "                },\n",
    "            ],\n",
    "        }\n",
    "    ],\n",
    "    temperature=0.2,\n",
    "    max_tokens=2000,\n",
    ")"
   ],
   "id": "c923ef457bce1329",
   "outputs": [],
   "execution_count": 12
  },
  {
   "metadata": {
    "ExecuteTime": {
     "end_time": "2024-09-30T19:44:59.288947Z",
     "start_time": "2024-09-30T19:44:59.273317Z"
    }
   },
   "cell_type": "code",
   "source": "display_response(three_step_output)",
   "id": "9fb1857eaf44b6a4",
   "outputs": [
    {
     "data": {
      "text/plain": [
       "<IPython.core.display.Markdown object>"
      ],
      "text/markdown": "FR1: The system must allow users to search for products using a search bar.\n\nFR2: The system must provide a navigation bar with links to \"Compras,\" \"Reservas,\" and \"Orçamentos.\"\n\nFR3: The system must include a filter button that allows users to display various filters for their orders.\n\nFR4: The system must provide a sort dropdown that enables users to sort orders by \"Mais recente,\" \"Mais antigo,\" and \"Produto (A-Z).\"\n\nFR5: The system must display order dates in a date section preceding the corresponding item cards.\n\nFR6: The system must present item cards that include product details such as title, product type, color, price, quantity, and status.\n\nFR7: The system must allow users to perform actions on item cards, including sending messages and confirming receipt of items.\n\nFR8: The system must indicate the status of each order clearly on the item cards, such as \"Reclamação aberta,\" \"Recebido,\" and \"Cancelado.\"\n\nFR9: The system must allow users to evaluate products through a designated action on the item card.\n\nFR10: The system must enable users to reorder items through a \"Comprar novamente\" action on the item card.\n\nFR11: The system must display the company logo at the bottom of the interface."
     },
     "metadata": {},
     "output_type": "display_data"
    }
   ],
   "execution_count": 13
  }
 ],
 "metadata": {
  "kernelspec": {
   "display_name": "Python 3",
   "language": "python",
   "name": "python3"
  },
  "language_info": {
   "codemirror_mode": {
    "name": "ipython",
    "version": 2
   },
   "file_extension": ".py",
   "mimetype": "text/x-python",
   "name": "python",
   "nbconvert_exporter": "python",
   "pygments_lexer": "ipython2",
   "version": "2.7.6"
  }
 },
 "nbformat": 4,
 "nbformat_minor": 5
}
